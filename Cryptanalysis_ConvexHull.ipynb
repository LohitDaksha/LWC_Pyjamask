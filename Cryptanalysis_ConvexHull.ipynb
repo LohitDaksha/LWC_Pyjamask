{
 "cells": [
  {
   "cell_type": "code",
   "execution_count": 1,
   "metadata": {},
   "outputs": [],
   "source": [
    "from sage.crypto.sbox import SBox\n",
    "import numpy as np\n",
    "import copy"
   ]
  },
  {
   "cell_type": "code",
   "execution_count": 2,
   "metadata": {},
   "outputs": [],
   "source": [
    "S3 = SBox([1, 3, 6, 5, 2, 4, 7, 0])\n",
    "S3_inv = S3.inverse()\n",
    "\n",
    "\n",
    "S4 = SBox([0x2, 0xd, 0x3, 0x9, 0x7, 0xb, 0xa, 0x6, 0xe, 0x0, 0xf, 0x4, 0x8, 0x5, 0x1, 0xc])\n",
    "S4_inv = S4.inverse()"
   ]
  },
  {
   "cell_type": "markdown",
   "metadata": {},
   "source": [
    "## DDT"
   ]
  },
  {
   "cell_type": "code",
   "execution_count": 3,
   "metadata": {},
   "outputs": [],
   "source": [
    "DDT3 = S3.difference_distribution_table()\n",
    "DDT4 = S4.difference_distribution_table()"
   ]
  },
  {
   "cell_type": "code",
   "execution_count": 4,
   "metadata": {},
   "outputs": [
    {
     "data": {
      "text/plain": [
       "[8 0 0 0 0 0 0 0]\n",
       "[0 0 2 2 0 0 2 2]\n",
       "[0 0 0 0 2 2 2 2]\n",
       "[0 0 2 2 2 2 0 0]\n",
       "[0 2 0 2 0 2 0 2]\n",
       "[0 2 2 0 0 2 2 0]\n",
       "[0 2 0 2 2 0 2 0]\n",
       "[0 2 2 0 2 0 0 2]"
      ]
     },
     "execution_count": 4,
     "metadata": {},
     "output_type": "execute_result"
    }
   ],
   "source": [
    "DDT3"
   ]
  },
  {
   "cell_type": "code",
   "execution_count": 5,
   "metadata": {
    "scrolled": true
   },
   "outputs": [
    {
     "data": {
      "text/plain": [
       "[16  0  0  0  0  0  0  0  0  0  0  0  0  0  0  0]\n",
       "[ 0  0  0  0  0  0  0  0  0  0  2  2  4  4  2  2]\n",
       "[ 0  4  0  0  4  0  0  0  0  4  0  0  0  4  0  0]\n",
       "[ 0  4  0  0  4  0  0  0  0  0  2  2  0  0  2  2]\n",
       "[ 0  0  0  0  0  4  4  0  2  2  0  0  0  0  2  2]\n",
       "[ 0  0  0  4  0  4  0  0  2  2  2  2  0  0  0  0]\n",
       "[ 0  2  2  0  2  0  0  2  2  0  0  2  2  0  0  2]\n",
       "[ 0  2  2  0  2  0  0  2  2  0  2  0  2  0  2  0]\n",
       "[ 0  0  0  0  0  0  0  0  0  0  2  2  4  4  2  2]\n",
       "[ 0  0  4  4  0  0  4  4  0  0  0  0  0  0  0  0]\n",
       "[ 0  0  2  2  0  0  2  2  0  4  0  0  0  4  0  0]\n",
       "[ 0  0  2  2  0  0  2  2  0  0  2  2  0  0  2  2]\n",
       "[ 0  0  4  0  0  4  0  0  2  2  2  2  0  0  0  0]\n",
       "[ 0  0  0  0  0  4  0  4  2  2  0  0  0  0  2  2]\n",
       "[ 0  2  0  2  2  0  2  0  2  0  0  2  2  0  0  2]\n",
       "[ 0  2  0  2  2  0  2  0  2  0  2  0  2  0  2  0]"
      ]
     },
     "execution_count": 5,
     "metadata": {},
     "output_type": "execute_result"
    }
   ],
   "source": [
    "DDT4"
   ]
  },
  {
   "cell_type": "markdown",
   "metadata": {},
   "source": [
    "## 1-1 DDT"
   ]
  },
  {
   "cell_type": "code",
   "execution_count": 150,
   "metadata": {},
   "outputs": [
    {
     "data": {
      "text/plain": [
       "array([[0., 2., 0.],\n",
       "       [0., 0., 2.],\n",
       "       [2., 0., 0.]])"
      ]
     },
     "execution_count": 150,
     "metadata": {},
     "output_type": "execute_result"
    }
   ],
   "source": [
    "DDT3_11 = np.zeros((3,3))\n",
    "\n",
    "for i in range(3):\n",
    "    for j in range(3):\n",
    "        DDT3_11[i][j] = DDT3[1<<i][1<<j]\n",
    "\n",
    "DDT3_11"
   ]
  },
  {
   "cell_type": "code",
   "execution_count": 151,
   "metadata": {},
   "outputs": [
    {
     "data": {
      "text/plain": [
       "array([[0., 0., 0., 0.],\n",
       "       [4., 0., 4., 0.],\n",
       "       [0., 0., 0., 2.],\n",
       "       [0., 0., 0., 0.]])"
      ]
     },
     "execution_count": 151,
     "metadata": {},
     "output_type": "execute_result"
    }
   ],
   "source": [
    "DDT4_11 = np.zeros((4,4))\n",
    "\n",
    "for i in range(4):\n",
    "    for j in range(4):\n",
    "        DDT4_11[i][j] = DDT4[1<<i][1<<j]\n",
    "\n",
    "DDT4_11"
   ]
  },
  {
   "cell_type": "markdown",
   "metadata": {},
   "source": [
    "## H-representation linear inequalities"
   ]
  },
  {
   "cell_type": "code",
   "execution_count": 6,
   "metadata": {},
   "outputs": [
    {
     "data": {
      "text/plain": [
       "[An inequality (0, 0, -1, 0, 0, 0, 0, 0) x + 1 >= 0,\n",
       " An inequality (0, -1, 0, 0, 0, 0, 0, 0) x + 1 >= 0,\n",
       " An inequality (0, 0, 0, 0, 0, 0, 0, -1) x + 1 >= 0,\n",
       " An inequality (0, 0, 0, -1, 0, 0, 0, 0) x + 1 >= 0,\n",
       " An inequality (0, 0, 0, 0, 0, -1, 0, 0) x + 1 >= 0,\n",
       " An inequality (0, 0, 0, 0, 0, 0, -1, 0) x + 1 >= 0,\n",
       " An inequality (0, 0, -1, 0, 0, 1, 1, 1) x + 0 >= 0,\n",
       " An inequality (0, 0, 0, 0, 0, 0, 0, 1) x + 0 >= 0,\n",
       " An inequality (0, -1, 0, 1, 0, 1, 0, 1) x + 0 >= 0,\n",
       " An inequality (0, 0, 0, -1, 0, 1, 1, 1) x + 0 >= 0,\n",
       " An inequality (0, 0, 1, -1, 0, 0, 1, 1) x + 0 >= 0,\n",
       " An inequality (0, 0, 1, 0, 0, -1, 1, 1) x + 0 >= 0,\n",
       " An inequality (0, 1, 1, 1, 0, -1, 0, 0) x + 0 >= 0,\n",
       " An inequality (0, 0, 0, 0, 0, 0, 1, 0) x + 0 >= 0,\n",
       " An inequality (0, -1, 1, 0, 0, 0, 1, 1) x + 0 >= 0,\n",
       " An inequality (0, 0, -1, 1, 0, 1, 0, 1) x + 0 >= 0,\n",
       " An inequality (0, 1, 1, 1, 0, 0, 0, -1) x + 0 >= 0,\n",
       " An inequality (0, -1, 1, 1, 0, 0, 0, 1) x + 0 >= 0,\n",
       " An inequality (0, 0, 0, 0, 0, 1, 0, 0) x + 0 >= 0,\n",
       " An inequality (0, 1, 1, 1, 0, 0, -1, 0) x + 0 >= 0,\n",
       " An inequality (0, -1, 0, 0, 0, 1, 1, 1) x + 0 >= 0,\n",
       " An inequality (0, 1, 0, 1, 0, 1, -1, 0) x + 0 >= 0,\n",
       " An inequality (0, 1, 0, -1, 0, 1, 1, 0) x + 0 >= 0,\n",
       " An inequality (0, 1, 0, 1, 0, 1, 0, -1) x + 0 >= 0,\n",
       " An inequality (0, 0, 1, 1, 0, -1, 0, 1) x + 0 >= 0,\n",
       " An inequality (0, 1, 0, 0, 0, 1, 1, -1) x + 0 >= 0,\n",
       " An inequality (0, 1, -1, 1, 0, 1, 0, 0) x + 0 >= 0,\n",
       " An inequality (0, 0, 1, 1, 0, 0, -1, 1) x + 0 >= 0,\n",
       " An inequality (0, 1, 1, 0, 0, -1, 1, 0) x + 0 >= 0,\n",
       " An inequality (0, 1, 1, -1, 0, 0, 1, 0) x + 0 >= 0,\n",
       " An inequality (0, 1, 0, 0, 0, 0, 0, 0) x + 0 >= 0,\n",
       " An inequality (0, 0, 1, 0, 0, 0, 0, 0) x + 0 >= 0,\n",
       " An inequality (0, 1, 1, 0, 0, 0, 1, -1) x + 0 >= 0,\n",
       " An inequality (0, 0, 0, 1, 0, 1, -1, 1) x + 0 >= 0,\n",
       " An inequality (0, 1, -1, 0, 0, 1, 1, 0) x + 0 >= 0,\n",
       " An inequality (0, 0, 0, 1, 0, 0, 0, 0) x + 0 >= 0,\n",
       " An inequality (0, -1, -1, 1, 0, -1, 0, -1) x + 3 >= 0,\n",
       " An inequality (0, -1, 1, -1, 0, 0, -1, -1) x + 3 >= 0,\n",
       " An inequality (0, 1, -1, -1, 0, -1, -1, 0) x + 3 >= 0,\n",
       " An inequality (0, -1, 0, -1, 0, 1, -1, -1) x + 3 >= 0,\n",
       " An inequality (0, 0, -1, -1, 0, -1, -1, 1) x + 3 >= 0,\n",
       " An inequality (0, -1, -1, 0, 0, -1, 1, -1) x + 3 >= 0]"
      ]
     },
     "execution_count": 6,
     "metadata": {},
     "output_type": "execute_result"
    }
   ],
   "source": [
    "FS = []\n",
    "\n",
    "for i in range(2**len(S3)):\n",
    "    for j in range(2**len(S3)):\n",
    "        if(DDT3[i][j]):\n",
    "            X = '0'*(4-len(bin(i)[2:])) + bin(i)[2:]\n",
    "            Y = '0'*(4-len(bin(j)[2:])) + bin(j)[2:]\n",
    "            LIS = []\n",
    "            for elem in X+Y:\n",
    "                LIS.append(eval(elem))\n",
    "            FS.append(copy.deepcopy(LIS))      \n",
    "\n",
    "            square_from_vertices = Polyhedron(vertices = FS)\n",
    "\n",
    "list(square_from_vertices.inequality_generator())"
   ]
  },
  {
   "cell_type": "code",
   "execution_count": 7,
   "metadata": {},
   "outputs": [
    {
     "data": {
      "text/plain": [
       "42"
      ]
     },
     "execution_count": 7,
     "metadata": {},
     "output_type": "execute_result"
    }
   ],
   "source": [
    "square_from_vertices = Polyhedron(vertices = FS)\n",
    "\n",
    "len(list(square_from_vertices.inequality_generator()))"
   ]
  },
  {
   "cell_type": "code",
   "execution_count": 8,
   "metadata": {},
   "outputs": [
    {
     "data": {
      "text/plain": [
       "[An inequality (0, -1, 0, 0, 0, 0, 0, 0) x + 1 >= 0,\n",
       " An inequality (-1, 0, 0, 0, 0, 0, 0, 0) x + 1 >= 0,\n",
       " An inequality (0, 0, -1, 0, 0, 0, 0, 0) x + 1 >= 0,\n",
       " An inequality (0, 0, 0, -1, 0, 0, 0, 0) x + 1 >= 0,\n",
       " An inequality (0, 0, 0, 0, 0, 0, 0, 1) x + 0 >= 0,\n",
       " An inequality (0, -1, -1, -1, -1, 0, 0, -1) x + 4 >= 0,\n",
       " An inequality (0, 0, 0, 0, -1, 0, 0, 0) x + 1 >= 0,\n",
       " An inequality (-1, -1, -1, -1, 0, -1, 0, -1) x + 5 >= 0,\n",
       " An inequality (0, 0, 0, 0, 0, -1, 0, 0) x + 1 >= 0,\n",
       " An inequality (0, 0, 0, 0, 0, 0, -1, 0) x + 1 >= 0,\n",
       " An inequality (0, 0, -1, 1, -1, 0, -1, 1) x + 2 >= 0,\n",
       " An inequality (0, -1, -1, 0, -1, 0, 1, -1) x + 3 >= 0,\n",
       " An inequality (0, 0, -1, -1, -1, 0, 1, -1) x + 3 >= 0,\n",
       " An inequality (-1, 1, 0, -1, 0, 0, 1, 0) x + 1 >= 0,\n",
       " An inequality (0, 1, -1, 0, -1, 0, 1, 1) x + 1 >= 0,\n",
       " An inequality (-1, 0, 1, -1, 0, -1, 1, 1) x + 2 >= 0,\n",
       " An inequality (-1, 1, -1, 0, 0, 0, 1, 1) x + 1 >= 0,\n",
       " An inequality (0, 0, -1, -1, 0, -1, 1, -1) x + 3 >= 0,\n",
       " An inequality (0, -1, 0, 0, -1, -1, 1, -1) x + 3 >= 0,\n",
       " An inequality (0, -1, -1, -1, -1, -1, 1, -2) x + 5 >= 0,\n",
       " An inequality (0, -1, 1, 0, -1, -1, 1, 0) x + 2 >= 0,\n",
       " An inequality (0, 0, 0, 0, 0, 0, 1, 0) x + 0 >= 0,\n",
       " An inequality (0, -1, 1, 0, 0, -1, 1, 1) x + 1 >= 0,\n",
       " An inequality (-2, 1, 1, -2, -1, -1, 1, 0) x + 4 >= 0,\n",
       " An inequality (0, -2, -1, 0, -1, -1, 2, -2) x + 5 >= 0,\n",
       " An inequality (-1, -1, -2, -1, 0, -2, 1, -2) x + 7 >= 0,\n",
       " An inequality (0, -1, -1, 0, 0, -1, 1, -1) x + 3 >= 0,\n",
       " An inequality (0, 0, 0, 0, 0, 1, 0, 0) x + 0 >= 0,\n",
       " An inequality (0, 1, 0, -1, -1, 1, 1, 0) x + 1 >= 0,\n",
       " An inequality (0, 2, 0, -1, -1, 2, 2, 1) x + 0 >= 0,\n",
       " An inequality (-1, 2, -1, 0, 0, 1, 2, 2) x + 0 >= 0,\n",
       " An inequality (0, 1, 0, 0, -1, 1, 1, 1) x + 0 >= 0,\n",
       " An inequality (-2, -1, 1, -2, -1, 2, -2, -1) x + 7 >= 0,\n",
       " An inequality (0, 0, 0, -1, 1, 1, 1, 1) x + 0 >= 0,\n",
       " An inequality (-1, 2, 0, -1, 0, 1, 2, 1) x + 0 >= 0,\n",
       " An inequality (0, 1, 0, -1, 0, 1, 1, 1) x + 0 >= 0,\n",
       " An inequality (0, 1, 1, -1, 0, 1, 1, 0) x + 0 >= 0,\n",
       " An inequality (0, 3, -1, -1, -1, 2, 3, 2) x + 0 >= 0,\n",
       " An inequality (-1, 0, 0, -1, -1, -1, 1, -1) x + 4 >= 0,\n",
       " An inequality (0, 2, -1, 0, -1, 1, 2, 2) x + 0 >= 0,\n",
       " An inequality (-1, 0, 1, -1, -1, 1, -1, 0) x + 3 >= 0,\n",
       " An inequality (-2, 2, -1, 0, 1, 1, 3, 2) x + 0 >= 0,\n",
       " An inequality (-2, 1, 0, 0, 1, 1, 2, 1) x + 0 >= 0,\n",
       " An inequality (0, 1, -1, 0, 0, 1, 1, 1) x + 0 >= 0,\n",
       " An inequality (0, -1, -2, -1, -2, 0, 1, -2) x + 6 >= 0,\n",
       " An inequality (-1, 1, 0, 0, 0, 1, 1, 1) x + 0 >= 0,\n",
       " An inequality (-1, -2, 1, -2, 2, 1, 0, 1) x + 3 >= 0,\n",
       " An inequality (0, 0, 1, -1, 1, 0, 1, 1) x + 0 >= 0,\n",
       " An inequality (-3, 1, 1, 0, 2, 1, 3, 1) x + 0 >= 0,\n",
       " An inequality (1, -1, 1, -2, 1, -1, -1, 1) x + 3 >= 0,\n",
       " An inequality (0, -1, 2, -1, 2, 0, 1, 2) x + 0 >= 0,\n",
       " An inequality (-1, 1, 1, -1, 1, 0, 2, 1) x + 0 >= 0,\n",
       " An inequality (1, 0, -1, 0, 1, -1, -1, 1) x + 2 >= 0,\n",
       " An inequality (0, 0, 1, 0, 1, -1, 1, 1) x + 0 >= 0,\n",
       " An inequality (0, -1, 3, -1, 2, -1, 2, 3) x + 0 >= 0,\n",
       " An inequality (0, -1, 2, -1, 1, -1, 1, 2) x + 1 >= 0,\n",
       " An inequality (0, -1, 1, 0, 1, 0, 1, 1) x + 0 >= 0,\n",
       " An inequality (-1, -1, 1, -1, 0, 1, -1, 0) x + 3 >= 0,\n",
       " An inequality (-1, -1, 2, 0, 1, -1, 1, 2) x + 1 >= 0,\n",
       " An inequality (-1, -2, 7, -1, 4, -3, 5, 7) x + 0 >= 0,\n",
       " An inequality (-1, 1, 1, -1, -1, 0, 0, 0) x + 2 >= 0,\n",
       " An inequality (1, 0, -1, 1, 0, -1, -1, 1) x + 2 >= 0,\n",
       " An inequality (-2, 1, 1, 1, 1, 1, 1, 0) x + 0 >= 0,\n",
       " An inequality (1, -1, 1, -1, 0, -1, -1, 0) x + 3 >= 0,\n",
       " An inequality (0, 1, -1, 1, -1, 0, -1, 0) x + 2 >= 0,\n",
       " An inequality (-1, 1, 2, 2, 2, -1, 0, 1) x + 0 >= 0,\n",
       " An inequality (-1, -1, 1, 1, 0, -1, 0, 1) x + 2 >= 0,\n",
       " An inequality (2, 3, 2, 2, 2, -2, -1, -1) x + 0 >= 0,\n",
       " An inequality (1, 0, 1, 2, 1, 1, -1, -1) x + 0 >= 0,\n",
       " An inequality (1, 1, 1, 1, 0, 0, 0, -1) x + 0 >= 0,\n",
       " An inequality (-1, -2, 5, -1, 2, -3, 3, 5) x + 2 >= 0,\n",
       " An inequality (0, 0, 0, 0, 1, 0, 0, 0) x + 0 >= 0,\n",
       " An inequality (3, 2, 1, 0, 3, -1, -1, -1) x + 0 >= 0,\n",
       " An inequality (1, 1, 0, 1, 0, 0, -1, 0) x + 0 >= 0,\n",
       " An inequality (-1, 0, 1, 0, 1, 0, 1, 1) x + 0 >= 0,\n",
       " An inequality (0, 1, 1, 1, 1, -1, 0, 0) x + 0 >= 0,\n",
       " An inequality (0, 0, 1, 1, 1, 0, -1, -1) x + 1 >= 0,\n",
       " An inequality (1, 0, 0, 0, 0, 0, 0, 0) x + 0 >= 0,\n",
       " An inequality (2, 1, 2, 2, 1, 1, -1, -2) x + 0 >= 0,\n",
       " An inequality (1, 1, 1, 1, 1, 1, -2, 0) x + 0 >= 0,\n",
       " An inequality (-2, -1, 2, 1, 1, -2, -1, 1) x + 4 >= 0,\n",
       " An inequality (-1, 2, 1, -1, -1, 1, 1, 0) x + 1 >= 0,\n",
       " An inequality (2, 1, 0, 2, -1, 1, -1, 1) x + 0 >= 0,\n",
       " An inequality (3, 1, 2, 3, -1, -2, 2, 1) x + 0 >= 0,\n",
       " An inequality (1, 1, 2, 0, 1, 1, 1, -2) x + 0 >= 0,\n",
       " An inequality (-1, 3, 1, -1, -1, 2, 2, 1) x + 0 >= 0,\n",
       " An inequality (1, 0, 1, -1, 1, -1, -1, 0) x + 2 >= 0,\n",
       " An inequality (-1, -1, 1, 0, 1, -1, 0, 1) x + 2 >= 0,\n",
       " An inequality (0, 0, 1, -2, 2, 1, 2, 1) x + 0 >= 0,\n",
       " An inequality (-1, 4, 2, -2, -1, 3, 3, 0) x + 0 >= 0,\n",
       " An inequality (0, 1, -1, -1, -1, 0, 1, 0) x + 2 >= 0,\n",
       " An inequality (0, -1, 1, -1, 1, 0, 0, 1) x + 1 >= 0,\n",
       " An inequality (1, 2, 1, 1, 1, -1, -1, 0) x + 0 >= 0,\n",
       " An inequality (-1, -2, 1, -2, 1, 1, -1, 1) x + 4 >= 0,\n",
       " An inequality (1, 1, 1, 1, 1, 0, -1, -1) x + 0 >= 0,\n",
       " An inequality (1, 1, 1, 1, -1, 0, 0, 0) x + 0 >= 0,\n",
       " An inequality (1, 1, 0, -2, 1, 2, 1, 2) x + 0 >= 0,\n",
       " An inequality (1, 1, 0, 0, 1, -1, 0, -1) x + 1 >= 0,\n",
       " An inequality (3, 1, 2, -4, 3, 2, 1, 2) x + 0 >= 0,\n",
       " An inequality (-1, -1, -1, 0, 1, -1, 0, -1) x + 4 >= 0,\n",
       " An inequality (1, 0, -1, 0, 1, 1, -1, -1) x + 2 >= 0,\n",
       " An inequality (-1, 3, 2, -1, -1, 2, 2, 0) x + 0 >= 0,\n",
       " An inequality (0, -1, 1, -1, 2, 1, 1, 1) x + 0 >= 0,\n",
       " An inequality (-1, 4, 1, -2, -1, 3, 3, 1) x + 0 >= 0,\n",
       " An inequality (-1, 3, 1, -2, -1, 2, 2, 0) x + 1 >= 0,\n",
       " An inequality (1, 1, -1, 1, 0, 1, 0, 1) x + 0 >= 0,\n",
       " An inequality (2, 1, 1, -1, 2, -1, -1, 0) x + 1 >= 0,\n",
       " An inequality (2, 1, 2, -3, 2, 1, 1, 1) x + 0 >= 0,\n",
       " An inequality (1, 0, 1, -2, 2, 1, 1, 1) x + 0 >= 0,\n",
       " An inequality (2, 2, 1, 2, 1, -1, -1, -1) x + 0 >= 0,\n",
       " An inequality (-1, 0, 1, 0, 1, 1, 1, 0) x + 0 >= 0,\n",
       " An inequality (1, 0, 0, -1, 1, -1, -1, 1) x + 2 >= 0,\n",
       " An inequality (1, -1, 2, -2, 1, -1, 0, 2) x + 2 >= 0,\n",
       " An inequality (-1, 1, 1, 0, 0, 1, 1, 0) x + 0 >= 0,\n",
       " An inequality (-2, 1, 1, 1, 2, 0, 1, 1) x + 0 >= 0,\n",
       " An inequality (0, 1, 1, -1, 1, 0, 1, 0) x + 0 >= 0,\n",
       " An inequality (3, 2, 2, -1, 3, -1, -1, 0) x + 0 >= 0,\n",
       " An inequality (1, 1, 2, -2, 1, 1, 1, 0) x + 0 >= 0,\n",
       " An inequality (-1, 2, 1, -1, 0, 1, 2, 0) x + 0 >= 0,\n",
       " An inequality (0, 1, 0, 0, 0, 0, 0, 0) x + 0 >= 0,\n",
       " An inequality (0, 1, 1, 0, -1, 1, 1, 0) x + 0 >= 0,\n",
       " An inequality (1, 1, 2, 1, 1, 1, 0, -2) x + 0 >= 0,\n",
       " An inequality (-1, -1, 3, 0, 3, 3, 2, -1) x + 0 >= 0,\n",
       " An inequality (1, 1, -1, 2, -1, 0, -1, 1) x + 1 >= 0,\n",
       " An inequality (2, 2, 1, 1, 2, -1, -1, -1) x + 0 >= 0,\n",
       " An inequality (0, 0, 1, 0, 1, 1, 1, -1) x + 0 >= 0,\n",
       " An inequality (-1, -1, 3, -1, 3, 3, 2, 0) x + 0 >= 0,\n",
       " An inequality (0, -2, 1, 0, 2, 1, 2, 1) x + 0 >= 0,\n",
       " An inequality (1, 0, 1, 1, -1, -1, 1, 0) x + 1 >= 0,\n",
       " An inequality (2, 0, 1, -2, 2, -1, -1, 1) x + 2 >= 0,\n",
       " An inequality (0, 0, 1, -1, 1, 1, 1, 0) x + 0 >= 0,\n",
       " An inequality (-1, 1, -1, 0, 1, 1, 2, 1) x + 0 >= 0,\n",
       " An inequality (0, 1, 2, 1, 1, 1, 1, -2) x + 0 >= 0,\n",
       " An inequality (2, 1, 0, 1, 1, 1, -2, -1) x + 1 >= 0,\n",
       " An inequality (2, 1, 2, 2, -1, -1, 1, 0) x + 0 >= 0,\n",
       " An inequality (1, 2, 1, 1, 1, -1, 0, -1) x + 0 >= 0,\n",
       " An inequality (3, 1, 2, 3, 1, 2, -2, -2) x + 0 >= 0,\n",
       " An inequality (0, 1, 1, 0, 1, -1, 1, 0) x + 0 >= 0,\n",
       " An inequality (0, 0, 1, 0, 0, 0, 0, 0) x + 0 >= 0,\n",
       " An inequality (0, 2, 1, 0, 2, -1, 2, -1) x + 0 >= 0,\n",
       " An inequality (1, 1, 3, 3, 3, 1, -2, -2) x + 0 >= 0,\n",
       " An inequality (0, 1, 1, 0, 1, 0, 1, -1) x + 0 >= 0,\n",
       " An inequality (1, 2, 2, 1, 1, 0, 0, -2) x + 0 >= 0,\n",
       " An inequality (1, 1, 1, 0, 1, -1, 0, 0) x + 0 >= 0,\n",
       " An inequality (2, 2, -1, 3, -1, 1, -1, 2) x + 0 >= 0,\n",
       " An inequality (-1, -1, 3, 0, 2, -1, 2, 3) x + 0 >= 0,\n",
       " An inequality (1, 0, 1, 0, 1, 1, -1, 1) x + 0 >= 0,\n",
       " An inequality (1, 1, 1, 0, 1, 0, 0, -1) x + 0 >= 0,\n",
       " An inequality (1, 1, 1, -1, 1, 0, 0, 0) x + 0 >= 0,\n",
       " An inequality (0, -1, 0, 0, 1, 1, 1, 1) x + 0 >= 0,\n",
       " An inequality (-1, -1, 1, 0, 1, 1, 0, -1) x + 2 >= 0,\n",
       " An inequality (-1, -1, -1, 0, 3, 3, 2, 3) x + 0 >= 0,\n",
       " An inequality (-2, -1, 2, 1, 1, -2, 0, 2) x + 3 >= 0,\n",
       " An inequality (-1, 1, 1, 1, 1, 1, 1, -1) x + 0 >= 0,\n",
       " An inequality (0, 1, 2, -2, 1, 1, 2, 0) x + 0 >= 0,\n",
       " An inequality (0, 2, 1, -1, -1, 2, 2, 0) x + 0 >= 0,\n",
       " An inequality (1, 0, 1, 1, 0, -1, 1, 1) x + 0 >= 0,\n",
       " An inequality (0, 1, 2, -3, 2, 1, 3, 1) x + 0 >= 0,\n",
       " An inequality (1, -2, 1, 0, 2, 1, 1, 1) x + 0 >= 0,\n",
       " An inequality (1, -1, 1, 0, 1, 1, 0, 1) x + 0 >= 0,\n",
       " An inequality (1, 1, -2, 0, 1, 2, 1, 2) x + 0 >= 0,\n",
       " An inequality (1, -1, 1, 1, 1, 1, 0, 0) x + 0 >= 0,\n",
       " An inequality (1, -1, 0, -1, -1, -1, 0, -1) x + 4 >= 0,\n",
       " An inequality (1, 0, 1, -1, 1, 0, 0, 1) x + 0 >= 0,\n",
       " An inequality (2, 1, 1, 2, 1, 1, -2, -1) x + 0 >= 0,\n",
       " An inequality (1, 2, 3, 1, 1, 1, 1, -3) x + 0 >= 0,\n",
       " An inequality (1, -1, -1, -1, 0, 1, -1, -1) x + 4 >= 0,\n",
       " An inequality (-1, -1, 1, -1, 1, 1, 0, 0) x + 2 >= 0,\n",
       " An inequality (-1, -1, 0, -1, 1, 1, 0, 1) x + 2 >= 0,\n",
       " An inequality (-1, -1, 0, -1, 3, 3, 2, 3) x + 0 >= 0,\n",
       " An inequality (2, 1, 1, 2, 0, 1, -1, -1) x + 0 >= 0,\n",
       " An inequality (2, 2, 1, 0, 2, -1, 0, -1) x + 0 >= 0,\n",
       " An inequality (1, -2, 3, -2, 4, 1, 1, 3) x + 0 >= 0,\n",
       " An inequality (1, -1, 2, -1, 2, 1, 0, 2) x + 0 >= 0,\n",
       " An inequality (-2, 1, 3, 3, 4, -2, 1, 3) x + 0 >= 0,\n",
       " An inequality (0, 0, -1, 0, 1, 1, 1, 1) x + 0 >= 0,\n",
       " An inequality (2, 1, 1, 2, -1, 1, -1, 0) x + 0 >= 0,\n",
       " An inequality (1, 1, 1, 1, 0, -1, 0, 0) x + 0 >= 0,\n",
       " An inequality (-1, 0, 1, 1, 1, -1, 0, 1) x + 1 >= 0,\n",
       " An inequality (1, 2, 1, 1, 1, 0, -2, 0) x + 0 >= 0,\n",
       " An inequality (1, 0, 1, 0, 1, -1, -1, -1) x + 2 >= 0,\n",
       " An inequality (0, 1, 1, 1, 1, 0, 0, -1) x + 0 >= 0,\n",
       " An inequality (1, 1, 0, 0, 1, 0, -1, 0) x + 0 >= 0,\n",
       " An inequality (1, 0, 0, 1, -1, 1, -1, 1) x + 1 >= 0,\n",
       " An inequality (0, 1, 1, 1, 1, 0, -1, 0) x + 0 >= 0,\n",
       " An inequality (0, 1, 0, 0, 1, -1, 1, -1) x + 1 >= 0,\n",
       " An inequality (-3, -3, 2, 3, -1, -3, -1, 1) x + 8 >= 0,\n",
       " An inequality (1, 1, 0, 1, -1, 0, 0, 1) x + 0 >= 0,\n",
       " An inequality (4, 3, -1, 5, -2, 1, -2, 3) x + 0 >= 0,\n",
       " An inequality (1, -1, 1, -1, -1, -1, 0, 0) x + 3 >= 0,\n",
       " An inequality (-1, 0, 0, 0, 1, 1, 1, 1) x + 0 >= 0,\n",
       " An inequality (0, 1, 2, 2, 2, 0, -1, -1) x + 0 >= 0,\n",
       " An inequality (-1, 2, 3, 3, 3, -1, -1, 0) x + 0 >= 0,\n",
       " An inequality (-1, 1, 1, 1, 1, 0, 0, 0) x + 0 >= 0,\n",
       " An inequality (1, 0, 1, 1, 0, 1, -1, 0) x + 0 >= 0,\n",
       " An inequality (0, 0, 0, 1, 0, 0, 0, 0) x + 0 >= 0,\n",
       " An inequality (-1, -1, -2, 0, 1, -2, 1, -2) x + 6 >= 0,\n",
       " An inequality (0, 1, 1, 0, 0, 1, 1, -1) x + 0 >= 0,\n",
       " An inequality (-1, 2, 1, -1, 1, 0, 2, 0) x + 0 >= 0,\n",
       " An inequality (0, 2, 1, 1, 2, -1, 1, -1) x + 0 >= 0,\n",
       " An inequality (-1, -1, 0, -1, -1, 1, -1, -1) x + 5 >= 0,\n",
       " An inequality (1, 2, 2, 1, 1, -2, 0, 0) x + 0 >= 0,\n",
       " An inequality (0, 0, -1, 0, 1, -1, 1, -1) x + 2 >= 0,\n",
       " An inequality (-2, 2, 0, -1, 1, 1, 3, 1) x + 0 >= 0,\n",
       " An inequality (0, 1, -2, 2, -2, 0, -1, 1) x + 3 >= 0,\n",
       " An inequality (0, 2, -1, 1, -1, 1, 1, 2) x + 0 >= 0,\n",
       " An inequality (-2, 2, 1, -1, 1, 1, 3, 0) x + 0 >= 0,\n",
       " An inequality (-2, 1, 1, 0, 1, 1, 2, 0) x + 0 >= 0,\n",
       " An inequality (-1, -1, -1, 1, 0, 1, -1, 1) x + 3 >= 0,\n",
       " An inequality (-1, 1, 2, 2, 3, -2, 1, 2) x + 0 >= 0,\n",
       " An inequality (0, -1, 1, 0, 1, 1, 1, 0) x + 0 >= 0,\n",
       " An inequality (-3, 4, 2, -3, 2, 1, 6, 1) x + 0 >= 0,\n",
       " An inequality (-2, 0, 1, 0, 2, 1, 2, 1) x + 0 >= 0,\n",
       " An inequality (0, 0, 1, 1, 1, 1, 0, -1) x + 0 >= 0,\n",
       " An inequality (0, 0, 0, 0, 0, 0, 0, -1) x + 1 >= 0,\n",
       " An inequality (-3, 3, 1, -2, 2, 1, 5, 1) x + 0 >= 0,\n",
       " An inequality (-1, -1, 1, 1, -1, -1, 0, 0) x + 3 >= 0,\n",
       " An inequality (0, 1, 2, 0, 1, 1, 2, -2) x + 0 >= 0,\n",
       " An inequality (-1, -1, 1, 1, 0, -1, -1, 0) x + 3 >= 0,\n",
       " An inequality (1, -1, 1, -1, 0, -1, 0, 1) x + 2 >= 0,\n",
       " An inequality (-1, -1, 1, 2, 1, -1, -2, -1) x + 4 >= 0,\n",
       " An inequality (-1, -1, -1, 0, 1, 1, 0, 1) x + 2 >= 0,\n",
       " An inequality (-1, 1, 0, 0, 1, 0, 1, 0) x + 0 >= 0,\n",
       " An inequality (0, 1, -1, 1, -1, 0, 0, 1) x + 1 >= 0,\n",
       " An inequality (-2, 3, 2, -2, 1, 1, 4, 0) x + 0 >= 0,\n",
       " An inequality (0, -1, 2, 0, 1, -1, 2, 2) x + 0 >= 0,\n",
       " An inequality (-1, 1, 1, 0, 1, 1, 2, -1) x + 0 >= 0,\n",
       " An inequality (-3, 1, 1, 1, 2, 1, 2, 1) x + 0 >= 0,\n",
       " An inequality (-1, 0, 1, 1, 1, -1, -1, 0) x + 2 >= 0,\n",
       " An inequality (-1, -1, 0, 1, -1, -1, -1, 1) x + 4 >= 0]"
      ]
     },
     "execution_count": 8,
     "metadata": {},
     "output_type": "execute_result"
    }
   ],
   "source": [
    "FS = []\n",
    "\n",
    "for i in range(2**len(S4)):\n",
    "    for j in range(2**len(S4)):\n",
    "        if(DDT4[i][j]):\n",
    "            X = '0'*(4-len(bin(i)[2:])) + bin(i)[2:]\n",
    "            Y = '0'*(4-len(bin(j)[2:])) + bin(j)[2:]\n",
    "            LIS = []\n",
    "            for elem in X+Y:\n",
    "                LIS.append(eval(elem))\n",
    "            FS.append(copy.deepcopy(LIS))      \n",
    "\n",
    "            square_from_vertices = Polyhedron(vertices = FS)\n",
    "\n",
    "list(square_from_vertices.inequality_generator())"
   ]
  },
  {
   "cell_type": "code",
   "execution_count": 9,
   "metadata": {},
   "outputs": [
    {
     "data": {
      "text/plain": [
       "230"
      ]
     },
     "execution_count": 9,
     "metadata": {},
     "output_type": "execute_result"
    }
   ],
   "source": [
    "square_from_vertices = Polyhedron(vertices = FS)\n",
    "\n",
    "len(list(square_from_vertices.inequality_generator()))"
   ]
  },
  {
   "cell_type": "markdown",
   "metadata": {},
   "source": [
    "## Boomerang Connectivity Table"
   ]
  },
  {
   "cell_type": "code",
   "execution_count": 12,
   "metadata": {
    "scrolled": true
   },
   "outputs": [
    {
     "data": {
      "text/plain": [
       "[8 8 8 8 8 8 8 8]\n",
       "[8 0 2 2 0 0 2 2]\n",
       "[8 0 0 0 2 2 2 2]\n",
       "[8 0 2 2 2 2 0 0]\n",
       "[8 2 0 2 0 2 0 2]\n",
       "[8 2 2 0 0 2 2 0]\n",
       "[8 2 0 2 2 0 2 0]\n",
       "[8 2 2 0 2 0 0 2]"
      ]
     },
     "execution_count": 12,
     "metadata": {},
     "output_type": "execute_result"
    }
   ],
   "source": [
    "S3.boomerang_connectivity_table()"
   ]
  },
  {
   "cell_type": "code",
   "execution_count": 13,
   "metadata": {
    "scrolled": true
   },
   "outputs": [
    {
     "data": {
      "text/plain": [
       "[16 16 16 16 16 16 16 16 16 16 16 16 16 16 16 16]\n",
       "[16  4  0  0  4  0  0  0  0  4  2  2  4  8  2  2]\n",
       "[16  8  0  0  8  0  0  0  0  8  0  0  8 16  0  0]\n",
       "[16  4  0  0  4  0  0  0  0  4  2  2  4  8  2  2]\n",
       "[16  0  4  4  0  8  4  4  2  2  0  0  0  0  2  2]\n",
       "[16  0  4  4  0  8  4  4  2  2  2  2  0  0  0  0]\n",
       "[16  2  2  0  2  0  0  2  2  0  0  2  2  0  0  2]\n",
       "[16  2  2  0  2  0  0  2  2  0  2  0  2  0  2  0]\n",
       "[16  4  0  0  4  0  0  0  0  4  2  2  4  8  2  2]\n",
       "[16  0  8  8  0 16  8  8  0  0  0  0  0  0  0  0]\n",
       "[16  4  2  2  4  0  2  2  0  4  0  0  4  8  0  0]\n",
       "[16  0  2  2  0  0  2  2  0  0  2  2  0  0  2  2]\n",
       "[16  0  4  4  0  8  4  4  2  2  2  2  0  0  0  0]\n",
       "[16  0  4  4  0  8  4  4  2  2  0  0  0  0  2  2]\n",
       "[16  2  0  2  2  0  2  0  2  0  0  2  2  0  0  2]\n",
       "[16  2  0  2  2  0  2  0  2  0  2  0  2  0  2  0]"
      ]
     },
     "execution_count": 13,
     "metadata": {},
     "output_type": "execute_result"
    }
   ],
   "source": [
    "S4.boomerang_connectivity_table()"
   ]
  },
  {
   "cell_type": "markdown",
   "metadata": {},
   "source": [
    "## Boomerang Difference Table"
   ]
  },
  {
   "cell_type": "code",
   "execution_count": 10,
   "metadata": {},
   "outputs": [
    {
     "data": {
      "text/plain": [
       "array([[[8., 8., 8., 8., 8., 8., 8., 8.],\n",
       "        [0., 0., 0., 0., 0., 0., 0., 0.],\n",
       "        [0., 0., 0., 0., 0., 0., 0., 0.],\n",
       "        [0., 0., 0., 0., 0., 0., 0., 0.],\n",
       "        [0., 0., 0., 0., 0., 0., 0., 0.],\n",
       "        [0., 0., 0., 0., 0., 0., 0., 0.],\n",
       "        [0., 0., 0., 0., 0., 0., 0., 0.],\n",
       "        [0., 0., 0., 0., 0., 0., 0., 0.]],\n",
       "\n",
       "       [[0., 0., 0., 0., 0., 0., 0., 0.],\n",
       "        [0., 0., 0., 0., 0., 0., 0., 0.],\n",
       "        [2., 0., 2., 0., 0., 0., 0., 0.],\n",
       "        [2., 0., 0., 2., 0., 0., 0., 0.],\n",
       "        [0., 0., 0., 0., 0., 0., 0., 0.],\n",
       "        [0., 0., 0., 0., 0., 0., 0., 0.],\n",
       "        [2., 0., 0., 0., 0., 0., 2., 0.],\n",
       "        [2., 0., 0., 0., 0., 0., 0., 2.]],\n",
       "\n",
       "       [[0., 0., 0., 0., 0., 0., 0., 0.],\n",
       "        [0., 0., 0., 0., 0., 0., 0., 0.],\n",
       "        [0., 0., 0., 0., 0., 0., 0., 0.],\n",
       "        [0., 0., 0., 0., 0., 0., 0., 0.],\n",
       "        [2., 0., 0., 0., 2., 0., 0., 0.],\n",
       "        [2., 0., 0., 0., 0., 2., 0., 0.],\n",
       "        [2., 0., 0., 0., 0., 0., 2., 0.],\n",
       "        [2., 0., 0., 0., 0., 0., 0., 2.]],\n",
       "\n",
       "       [[0., 0., 0., 0., 0., 0., 0., 0.],\n",
       "        [0., 0., 0., 0., 0., 0., 0., 0.],\n",
       "        [2., 0., 2., 0., 0., 0., 0., 0.],\n",
       "        [2., 0., 0., 2., 0., 0., 0., 0.],\n",
       "        [2., 0., 0., 0., 2., 0., 0., 0.],\n",
       "        [2., 0., 0., 0., 0., 2., 0., 0.],\n",
       "        [0., 0., 0., 0., 0., 0., 0., 0.],\n",
       "        [0., 0., 0., 0., 0., 0., 0., 0.]],\n",
       "\n",
       "       [[0., 0., 0., 0., 0., 0., 0., 0.],\n",
       "        [2., 2., 0., 0., 0., 0., 0., 0.],\n",
       "        [0., 0., 0., 0., 0., 0., 0., 0.],\n",
       "        [2., 0., 0., 2., 0., 0., 0., 0.],\n",
       "        [0., 0., 0., 0., 0., 0., 0., 0.],\n",
       "        [2., 0., 0., 0., 0., 2., 0., 0.],\n",
       "        [0., 0., 0., 0., 0., 0., 0., 0.],\n",
       "        [2., 0., 0., 0., 0., 0., 0., 2.]],\n",
       "\n",
       "       [[0., 0., 0., 0., 0., 0., 0., 0.],\n",
       "        [2., 2., 0., 0., 0., 0., 0., 0.],\n",
       "        [2., 0., 2., 0., 0., 0., 0., 0.],\n",
       "        [0., 0., 0., 0., 0., 0., 0., 0.],\n",
       "        [0., 0., 0., 0., 0., 0., 0., 0.],\n",
       "        [2., 0., 0., 0., 0., 2., 0., 0.],\n",
       "        [2., 0., 0., 0., 0., 0., 2., 0.],\n",
       "        [0., 0., 0., 0., 0., 0., 0., 0.]],\n",
       "\n",
       "       [[0., 0., 0., 0., 0., 0., 0., 0.],\n",
       "        [2., 2., 0., 0., 0., 0., 0., 0.],\n",
       "        [0., 0., 0., 0., 0., 0., 0., 0.],\n",
       "        [2., 0., 0., 2., 0., 0., 0., 0.],\n",
       "        [2., 0., 0., 0., 2., 0., 0., 0.],\n",
       "        [0., 0., 0., 0., 0., 0., 0., 0.],\n",
       "        [2., 0., 0., 0., 0., 0., 2., 0.],\n",
       "        [0., 0., 0., 0., 0., 0., 0., 0.]],\n",
       "\n",
       "       [[0., 0., 0., 0., 0., 0., 0., 0.],\n",
       "        [2., 2., 0., 0., 0., 0., 0., 0.],\n",
       "        [2., 0., 2., 0., 0., 0., 0., 0.],\n",
       "        [0., 0., 0., 0., 0., 0., 0., 0.],\n",
       "        [2., 0., 0., 0., 2., 0., 0., 0.],\n",
       "        [0., 0., 0., 0., 0., 0., 0., 0.],\n",
       "        [0., 0., 0., 0., 0., 0., 0., 0.],\n",
       "        [2., 0., 0., 0., 0., 0., 0., 2.]]])"
      ]
     },
     "execution_count": 10,
     "metadata": {},
     "output_type": "execute_result"
    }
   ],
   "source": [
    "import numpy as np\n",
    "\n",
    "BDT3 = np.zeros((2**len(S3),2**len(S3),2**len(S3)))\n",
    "\n",
    "for i in range(2**len(S3)):\n",
    "    for j in range(2**len(S3)):\n",
    "        for k in range(2**len(S3)):\n",
    "            for x in range(2**len(S3)):\n",
    "                if(S3[x]^^S3[x^^i]==j):\n",
    "                    if(S3_inv[S3[x]^^k]^^S3_inv[S3[x^^i]^^k]==i):\n",
    "                        BDT3[i][j][k]+=1\n",
    "\n",
    "BDT3"
   ]
  },
  {
   "cell_type": "code",
   "execution_count": 11,
   "metadata": {},
   "outputs": [
    {
     "data": {
      "text/plain": [
       "array([[[16., 16., 16., ..., 16., 16., 16.],\n",
       "        [ 0.,  0.,  0., ...,  0.,  0.,  0.],\n",
       "        [ 0.,  0.,  0., ...,  0.,  0.,  0.],\n",
       "        ...,\n",
       "        [ 0.,  0.,  0., ...,  0.,  0.,  0.],\n",
       "        [ 0.,  0.,  0., ...,  0.,  0.,  0.],\n",
       "        [ 0.,  0.,  0., ...,  0.,  0.,  0.]],\n",
       "\n",
       "       [[ 0.,  0.,  0., ...,  0.,  0.,  0.],\n",
       "        [ 0.,  0.,  0., ...,  0.,  0.,  0.],\n",
       "        [ 0.,  0.,  0., ...,  0.,  0.,  0.],\n",
       "        ...,\n",
       "        [ 4.,  0.,  0., ...,  4.,  0.,  0.],\n",
       "        [ 2.,  0.,  0., ...,  0.,  2.,  0.],\n",
       "        [ 2.,  0.,  0., ...,  0.,  0.,  2.]],\n",
       "\n",
       "       [[ 0.,  0.,  0., ...,  0.,  0.,  0.],\n",
       "        [ 4.,  4.,  0., ...,  4.,  0.,  0.],\n",
       "        [ 0.,  0.,  0., ...,  0.,  0.,  0.],\n",
       "        ...,\n",
       "        [ 4.,  4.,  0., ...,  4.,  0.,  0.],\n",
       "        [ 0.,  0.,  0., ...,  0.,  0.,  0.],\n",
       "        [ 0.,  0.,  0., ...,  0.,  0.,  0.]],\n",
       "\n",
       "       ...,\n",
       "\n",
       "       [[ 0.,  0.,  0., ...,  0.,  0.,  0.],\n",
       "        [ 0.,  0.,  0., ...,  0.,  0.,  0.],\n",
       "        [ 0.,  0.,  0., ...,  0.,  0.,  0.],\n",
       "        ...,\n",
       "        [ 0.,  0.,  0., ...,  0.,  0.,  0.],\n",
       "        [ 2.,  0.,  0., ...,  0.,  2.,  0.],\n",
       "        [ 2.,  0.,  0., ...,  0.,  0.,  2.]],\n",
       "\n",
       "       [[ 0.,  0.,  0., ...,  0.,  0.,  0.],\n",
       "        [ 2.,  2.,  0., ...,  0.,  0.,  0.],\n",
       "        [ 0.,  0.,  0., ...,  0.,  0.,  0.],\n",
       "        ...,\n",
       "        [ 0.,  0.,  0., ...,  0.,  0.,  0.],\n",
       "        [ 0.,  0.,  0., ...,  0.,  0.,  0.],\n",
       "        [ 2.,  0.,  0., ...,  0.,  0.,  2.]],\n",
       "\n",
       "       [[ 0.,  0.,  0., ...,  0.,  0.,  0.],\n",
       "        [ 2.,  2.,  0., ...,  0.,  0.,  0.],\n",
       "        [ 0.,  0.,  0., ...,  0.,  0.,  0.],\n",
       "        ...,\n",
       "        [ 0.,  0.,  0., ...,  0.,  0.,  0.],\n",
       "        [ 2.,  0.,  0., ...,  0.,  2.,  0.],\n",
       "        [ 0.,  0.,  0., ...,  0.,  0.,  0.]]])"
      ]
     },
     "execution_count": 11,
     "metadata": {},
     "output_type": "execute_result"
    }
   ],
   "source": [
    "import numpy as np\n",
    "\n",
    "BDT4 = np.zeros((2**len(S4),2**len(S4),2**len(S4)))\n",
    "\n",
    "for i in range(2**len(S4)):\n",
    "    for j in range(2**len(S4)):\n",
    "        for k in range(2**len(S4)):\n",
    "            for x in range(2**len(S4)):\n",
    "                if(S4[x]^^S4[x^^i]==j):\n",
    "                    if(S4_inv[S4[x]^^k]^^S4_inv[S4[x^^i]^^k]==i):\n",
    "                        BDT4[i][j][k]+=1\n",
    "                        \n",
    "BDT4"
   ]
  }
 ],
 "metadata": {
  "kernelspec": {
   "display_name": "SageMath 9.0",
   "language": "sage",
   "name": "sagemath"
  },
  "language_info": {
   "codemirror_mode": {
    "name": "ipython",
    "version": 3
   },
   "file_extension": ".py",
   "mimetype": "text/x-python",
   "name": "python",
   "nbconvert_exporter": "python",
   "pygments_lexer": "ipython3",
   "version": "3.8.10"
  }
 },
 "nbformat": 4,
 "nbformat_minor": 4
}
